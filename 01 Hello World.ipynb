{
 "cells": [
  {
   "cell_type": "markdown",
   "metadata": {
    "slideshow": {
     "slide_type": "slide"
    }
   },
   "source": [
    "# Welcome to Jupyter Notebooks with Python and Markdown\n",
    "This block is written using Markdown. Notice how there are multiple slightly grayer regions? Each one is called a cell.If you double click into this cell you will see that it says **Markdown** in one of the task bar icons above. At the top right side it says **Python 3**. That tells you what language cells labeled **Code** will be run in. First lets learn a little **Markdown**   \n",
    "To make big text use a # at the start of a line.  \n",
    "To make bold text, use \\*\\* **Bold Text** \\*\\*  \n",
    "Teo get it to go to the next line, use two spaces before you type return.  \n",
    "To make italic text, use \\* *italic text* \\*   \n",
    "You can combine ***bold and italic***"
   ]
  },
  {
   "cell_type": "markdown",
   "metadata": {
    "slideshow": {
     "slide_type": "slide"
    }
   },
   "source": [
    "* In the cell below, change the type to markdown and write \"Hello World\" as header, and in bold and italic. Click run above while in the cell to see you final text.  \n",
    "* You can experiment with more markdown using [this cheetsheet](https://guides.github.com/pdfs/markdown-cheatsheet-online.pdf). Unfortunately, GitHub Flavored Markdown won't work in Jupyter.\n",
    "\n",
    "* Keyboard shortcuts for Jupyter Notebook commands are [here](http://cs.smu.ca/~porter/csc/227/JupyterNotebookKeyboardShortcutsCommandMode.pdf)."
   ]
  },
  {
   "cell_type": "code",
   "execution_count": null,
   "metadata": {
    "slideshow": {
     "slide_type": "fragment"
    }
   },
   "outputs": [],
   "source": [
    "Practice markdown here with \"Hello World\".\n",
    "    "
   ]
  },
  {
   "cell_type": "markdown",
   "metadata": {
    "slideshow": {
     "slide_type": "slide"
    }
   },
   "source": [
    "You can also use LaTeX commands to typeset mathematics in Markdown cells in Jupyter.\n",
    "For example: $\\sqrt{2}$, $\\frac{2}{3}$, $x^2$  \n",
    "*Click in the cell to see how I coded that. More LaTeX math code can be found [here](https://www.colorado.edu/physics/phys4610/phys4610_sp15/PHYS4610_sp15/Home_files/LaTeXSymbols.pdf). Be sure to enclose LaTeX math in \\$ so it renders correctly.*"
   ]
  },
  {
   "cell_type": "markdown",
   "metadata": {
    "slideshow": {
     "slide_type": "slide"
    }
   },
   "source": [
    "## Now Let's Consider Python.\n",
    "The command for printing a line in the console is just **print(*thing to be printed here*)**  \n",
    "If you want to print a ***string*** which is what we call words, letters, and such directly, you need to enclose it in \"\"  \n",
    "notince that commands change color in coding cells."
   ]
  },
  {
   "cell_type": "code",
   "execution_count": null,
   "metadata": {
    "slideshow": {
     "slide_type": "fragment"
    }
   },
   "outputs": [],
   "source": [
    "print(\"Write a line to print 'Hello World' using Python.\")"
   ]
  },
  {
   "cell_type": "code",
   "execution_count": null,
   "metadata": {},
   "outputs": [],
   "source": [
    "# Practice using print statements here."
   ]
  },
  {
   "cell_type": "markdown",
   "metadata": {
    "slideshow": {
     "slide_type": "slide"
    }
   },
   "source": [
    "# Let's step back a minute. We can use Python as a calculator.\n",
    "* Addition with +\n",
    "* Subtractions with -\n",
    "* Multiplication uses an *\n",
    "* Division uses a /\n",
    "* Interger division throws out the remainder //\n",
    "* To use an exponent use **\n",
    "* Modulo (remainders) use %\n",
    "\n",
    "Try it out below"
   ]
  },
  {
   "cell_type": "code",
   "execution_count": null,
   "metadata": {
    "slideshow": {
     "slide_type": "subslide"
    }
   },
   "outputs": [],
   "source": [
    "23**2"
   ]
  },
  {
   "cell_type": "markdown",
   "metadata": {},
   "source": [
    "When you omit print statments, only the last operation occurs. Run the cell below to see this."
   ]
  },
  {
   "cell_type": "code",
   "execution_count": null,
   "metadata": {},
   "outputs": [],
   "source": [
    "45%10\n",
    "3+4"
   ]
  },
  {
   "cell_type": "code",
   "execution_count": null,
   "metadata": {},
   "outputs": [],
   "source": [
    "# write an addition expression here using numbers. Do not use print."
   ]
  },
  {
   "cell_type": "code",
   "execution_count": null,
   "metadata": {},
   "outputs": [],
   "source": [
    "# write a subtraction expression here using numbers. Do not use print."
   ]
  },
  {
   "cell_type": "code",
   "execution_count": null,
   "metadata": {},
   "outputs": [],
   "source": [
    "# write a multiplication expression here using numbers. Do not use print."
   ]
  },
  {
   "cell_type": "code",
   "execution_count": null,
   "metadata": {},
   "outputs": [],
   "source": [
    "# write a division expression here using numbers. Do not use print."
   ]
  },
  {
   "cell_type": "code",
   "execution_count": null,
   "metadata": {},
   "outputs": [],
   "source": [
    "# write an integer multiplication expression here using numbers. What happens to the remainder? Do not use print."
   ]
  },
  {
   "cell_type": "code",
   "execution_count": null,
   "metadata": {},
   "outputs": [],
   "source": [
    "# write an modulo expression here using numbers. Do not use print."
   ]
  },
  {
   "cell_type": "code",
   "execution_count": null,
   "metadata": {},
   "outputs": [],
   "source": [
    "# write an exponent expression here using numbers. Do not use print."
   ]
  },
  {
   "cell_type": "markdown",
   "metadata": {
    "slideshow": {
     "slide_type": "slide"
    }
   },
   "source": [
    "# What type is that?\n",
    "\n",
    "The **type()** function tells the type an input or variable has. In this first lesson, we will explore integers (int), strings (str), and decimal numbers (float). Integers are just that - integer. The counting numbers, their opposites (the negative counting numbers) and zero. Any numbers that arent integers (for our present purposes - there is more to this that we will not discuss now) are floats. Float standing for **floating point** - the decimal point. Words make up strings. Strings can contain numerals as well. You need to enclose strings in single or double quotations to use them in code. Any input soliticited from a user will be a string by default in Python.  Study the code below:"
   ]
  },
  {
   "cell_type": "code",
   "execution_count": null,
   "metadata": {
    "slideshow": {
     "slide_type": "subslide"
    }
   },
   "outputs": [],
   "source": [
    "type(23)"
   ]
  },
  {
   "cell_type": "code",
   "execution_count": null,
   "metadata": {
    "slideshow": {
     "slide_type": "fragment"
    }
   },
   "outputs": [],
   "source": [
    "type(0.5)"
   ]
  },
  {
   "cell_type": "code",
   "execution_count": null,
   "metadata": {
    "slideshow": {
     "slide_type": "slide"
    }
   },
   "outputs": [],
   "source": [
    ".3 - .1"
   ]
  },
  {
   "cell_type": "markdown",
   "metadata": {
    "slideshow": {
     "slide_type": "fragment"
    }
   },
   "source": [
    "What happened??  \n",
    "0.2 connot be properly represented in binary resulting in the **floating point error** be aware of this."
   ]
  },
  {
   "cell_type": "code",
   "execution_count": null,
   "metadata": {
    "slideshow": {
     "slide_type": "slide"
    }
   },
   "outputs": [],
   "source": [
    "type('23')"
   ]
  },
  {
   "cell_type": "code",
   "execution_count": null,
   "metadata": {
    "slideshow": {
     "slide_type": "fragment"
    }
   },
   "outputs": [],
   "source": [
    "type('Hello World')"
   ]
  },
  {
   "cell_type": "code",
   "execution_count": null,
   "metadata": {
    "slideshow": {
     "slide_type": "subslide"
    }
   },
   "outputs": [],
   "source": [
    "my_integer = '23'"
   ]
  },
  {
   "cell_type": "code",
   "execution_count": null,
   "metadata": {
    "slideshow": {
     "slide_type": "fragment"
    }
   },
   "outputs": [],
   "source": [
    "type(my_integer)"
   ]
  },
  {
   "cell_type": "markdown",
   "metadata": {},
   "source": [
    "You should notice that the above cell reads **str** when you run it. This is because it was enclosed in quotes when it was assigned. Below, I use **int()** to reassign it to the int type."
   ]
  },
  {
   "cell_type": "code",
   "execution_count": null,
   "metadata": {
    "slideshow": {
     "slide_type": "fragment"
    }
   },
   "outputs": [],
   "source": [
    "my_integer = int(my_integer)\n",
    "type(my_integer)"
   ]
  },
  {
   "cell_type": "code",
   "execution_count": null,
   "metadata": {
    "slideshow": {
     "slide_type": "fragment"
    }
   },
   "outputs": [],
   "source": [
    "name = 'Elizabeth'\n",
    "type(name)"
   ]
  },
  {
   "cell_type": "markdown",
   "metadata": {
    "slideshow": {
     "slide_type": "slide"
    }
   },
   "source": [
    "### In the next cell, explain what you know about types in Python."
   ]
  },
  {
   "cell_type": "markdown",
   "metadata": {},
   "source": [
    "Write what you understand about types so far here."
   ]
  },
  {
   "cell_type": "markdown",
   "metadata": {
    "slideshow": {
     "slide_type": "slide"
    }
   },
   "source": [
    "A good way to manage errors, particularly once you start taking user inputs, is to use try, except. See the example below and then write your own try, expect statement. One should give the exception and one should not."
   ]
  },
  {
   "cell_type": "code",
   "execution_count": null,
   "metadata": {
    "slideshow": {
     "slide_type": "fragment"
    }
   },
   "outputs": [],
   "source": [
    "try:\n",
    "    name = int(name)\n",
    "except:\n",
    "    print('Error')"
   ]
  },
  {
   "cell_type": "code",
   "execution_count": null,
   "metadata": {},
   "outputs": [],
   "source": [
    "# Write your try, except that gives the error here. Copy the format exactly, but use different indented information."
   ]
  },
  {
   "cell_type": "code",
   "execution_count": null,
   "metadata": {},
   "outputs": [],
   "source": [
    "# write your try except that does not give the error here"
   ]
  }
 ],
 "metadata": {
  "celltoolbar": "Slideshow",
  "kernelspec": {
   "display_name": "Python 3",
   "language": "python",
   "name": "python3"
  },
  "language_info": {
   "codemirror_mode": {
    "name": "ipython",
    "version": 3
   },
   "file_extension": ".py",
   "mimetype": "text/x-python",
   "name": "python",
   "nbconvert_exporter": "python",
   "pygments_lexer": "ipython3",
   "version": "3.6.5"
  }
 },
 "nbformat": 4,
 "nbformat_minor": 2
}
