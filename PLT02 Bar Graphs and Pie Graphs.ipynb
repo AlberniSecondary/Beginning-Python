{
 "cells": [
  {
   "cell_type": "markdown",
   "metadata": {},
   "source": [
    "# Bar Graphs and Pie Charts\n",
    "* Make bar graphs.\n",
    "* Organize a bar graph so that you can have two sets of data on it without overlap or strange axis numbering.\n",
    "* Make pie charts\n",
    "* Use colors in graphs\n",
    "* Explode out a section of a pie chart"
   ]
  },
  {
   "cell_type": "markdown",
   "metadata": {},
   "source": [
    "As before, we first need to import matplotlib.pyplot with the short name plt"
   ]
  },
  {
   "cell_type": "code",
   "execution_count": 1,
   "metadata": {},
   "outputs": [],
   "source": [
    "import matplotlib.pyplot as plt"
   ]
  },
  {
   "cell_type": "markdown",
   "metadata": {},
   "source": [
    "Next we will set up some points as a list of x coordinates and then a list of y coordinates in the same order so the points match.  Let us set up a second list of y coordinates that have the same x coordinates as well.  We will use the second list later on."
   ]
  },
  {
   "cell_type": "code",
   "execution_count": 2,
   "metadata": {},
   "outputs": [],
   "source": [
    "sample_x = [0, 1, 2, 3, 4, 5]\n",
    "sample_y1 = [1, 4,7,8,4,5]\n",
    "sample_y2 = [1, 2,7,3,8,9]"
   ]
  },
  {
   "cell_type": "markdown",
   "metadata": {},
   "source": [
    "Once you have run the cell above to set up the lists, study the code below. Notice that we call the bar metod instead of the plot method for a bar graph.  Otherwise, it is much the same."
   ]
  },
  {
   "cell_type": "code",
   "execution_count": 3,
   "metadata": {},
   "outputs": [
    {
     "data": {
      "image/png": "[encoded data removed]",
      "text/plain": [
       "<Figure size 432x288 with 1 Axes>"
      ]
     },
     "metadata": {},
     "output_type": "display_data"
    }
   ],
   "source": [
    "plt.bar(sample_x, sample_y1)\n",
    "plt.xlabel('Week')\n",
    "plt.ylabel('Height in Inches')\n",
    "plt.title('Bar Chart of Plant Height for Low Light Condition')\n",
    "plt.show()"
   ]
  },
  {
   "cell_type": "markdown",
   "metadata": {},
   "source": [
    "Do you remember how to save the image?  **Add the lines needed to the code cell above to save the image as a png and as a svg file.**"
   ]
  },
  {
   "cell_type": "markdown",
   "metadata": {},
   "source": [
    "## Multiple bar graphs on one axis\n",
    "\n",
    "In order to put multiple bar graphs on one axis and have them look good, I need to set up two sets of x coordinates with one shifted slightly left and the other slightly to the right.  I shifted each off .15 in the lists below."
   ]
  },
  {
   "cell_type": "code",
   "execution_count": 4,
   "metadata": {},
   "outputs": [],
   "source": [
    "sample_x1 = [-.15, .85, 1.85, 2.85, 3.85, 4.85]\n",
    "sample_x2 = [.15, 1.15, 2.15, 3.15, 4.15, 5.15]"
   ]
  },
  {
   "cell_type": "markdown",
   "metadata": {},
   "source": [
    "As before, I have added a legend to my my graphs with multiple bars.  I have also changed the width of the bars so that they don't overlap.  Since they are shifted .15 in each direction, a width of .3 will have the just touch with space between each pair."
   ]
  },
  {
   "cell_type": "code",
   "execution_count": 5,
   "metadata": {},
   "outputs": [
    {
     "data": {
      "image/png": "[encoded data removed]",
      "text/plain": [
       "<Figure size 432x288 with 1 Axes>"
      ]
     },
     "metadata": {},
     "output_type": "display_data"
    }
   ],
   "source": [
    "plt.bar(sample_x1,sample_y1, width=0.3, label=\"Low Light\", color='b')\n",
    "plt.bar(sample_x2,sample_y2, width=0.3, label=\"Bright Light\", color='g')\n",
    "plt.xlabel('Week')\n",
    "plt.ylabel('Height in Inches')\n",
    "plt.title('Bar Chart of Plant Height')\n",
    "plt.legend()\n",
    "plt.show()"
   ]
  },
  {
   "cell_type": "markdown",
   "metadata": {},
   "source": [
    "# You try...\n",
    "Create two sets of data and graph one as a single bar graph and then together with shifted axis. Save the images as svg files."
   ]
  },
  {
   "cell_type": "code",
   "execution_count": null,
   "metadata": {},
   "outputs": [],
   "source": [
    "# Set up one set of data as lists here - keep your x axis unshifted for this single bar graph"
   ]
  },
  {
   "cell_type": "code",
   "execution_count": null,
   "metadata": {},
   "outputs": [],
   "source": [
    "# Graph and save the single set here - be shore to label axis and the graph"
   ]
  },
  {
   "cell_type": "code",
   "execution_count": null,
   "metadata": {},
   "outputs": [],
   "source": [
    "# Create your second y axis list and your shifted x axis lists here."
   ]
  },
  {
   "cell_type": "code",
   "execution_count": null,
   "metadata": {},
   "outputs": [],
   "source": [
    "# Create your double bar graph here with axis labels, a legend, and a title that makes sense. "
   ]
  },
  {
   "cell_type": "markdown",
   "metadata": {},
   "source": [
    "Suppose your science experiment considered whether birds preferred certain color birdfeeders.  You may have data about the number of visits to bird feeders of each color.\n",
    "\n",
    "I can make a list of the colors named labels to keep track of the order, and then of the visits in order by color as in the first list.  Finally, I make a list of the colors for the wedges of the pie.  (I can color lines or bars for other graph styles in the same way.) Lastly,  I can make a pie chart.\n",
    "\n",
    "To color the sections I can use the following built in colors:  \n",
    "* b: blue\n",
    "* g: green\n",
    "* r: red\n",
    "* c: cyan\n",
    "* m: magenta\n",
    "* y: yellow\n",
    "* k: black\n",
    "* w: white\n",
    "\n",
    "I can also use the hex code to get other colors. See how I do this with the color list below.\n",
    "\n",
    "Notice that a pie chart is just the pie method. Given the raw data, it automatically sets the size of the slices.  See more notes on the code below."
   ]
  },
  {
   "cell_type": "code",
   "execution_count": null,
   "metadata": {},
   "outputs": [],
   "source": [
    "labels = ['red', 'blue', 'purple', 'green', 'white']\n",
    "visits = [23, 43, 57, 3, 15]\n",
    "colors = ['r', 'b', '#800080', 'g', 'w']\n",
    "plt.pie(visits, labels=labels, colors=colors, autopct='%1.1f%%')\n",
    "plt.axis('equal')"
   ]
  },
  {
   "cell_type": "markdown",
   "metadata": {},
   "source": [
    "### Notes:\n",
    "\n",
    "autopct\n",
    "* tells it to calculate and label the percents.  You can omit that section of the code to leave off those labels.  Similarly, skipping the \"labels=labels\" leaves off the color code.  The only part required is the list of numbers to put into a pie chart.\n",
    "\n",
    "plt.axis('equal') \n",
    "* causes your circle to be nice and round rather than a strangely slanted oval shape.  \n",
    "\n",
    "I can also pop out a wedge by using explode.  For example, suppose I want to pop out the blue section a little bit.  That is second in my list so:"
   ]
  },
  {
   "cell_type": "code",
   "execution_count": null,
   "metadata": {},
   "outputs": [],
   "source": [
    "plt.pie(visits, labels=labels, colors=colors, autopct='%1.1f%%', explode=(0, 0.1, 0, 0, 0))\n",
    "plt.axis('equal')"
   ]
  },
  {
   "cell_type": "markdown",
   "metadata": {},
   "source": [
    "My parentheses following explode needs to have the same number of elements as the list of things I am putting in my pie chart. Zero is no pop out at all."
   ]
  },
  {
   "cell_type": "markdown",
   "metadata": {},
   "source": [
    "### You Try\n",
    "\n",
    "* Make a pie chart with colors and labels. Save it as an image. "
   ]
  },
  {
   "cell_type": "code",
   "execution_count": null,
   "metadata": {},
   "outputs": [],
   "source": [
    "# Make your pie chart here"
   ]
  },
  {
   "cell_type": "markdown",
   "metadata": {},
   "source": [
    "# Advanced Activity\n",
    "* Make a bar graph with 3 different bars shifted and sized so that do not overlap."
   ]
  },
  {
   "cell_type": "code",
   "execution_count": null,
   "metadata": {},
   "outputs": [],
   "source": []
  }
 ],
 "metadata": {
  "kernelspec": {
   "display_name": "Python 3",
   "language": "python",
   "name": "python3"
  },
  "language_info": {
   "codemirror_mode": {
    "name": "ipython",
    "version": 3
   },
   "file_extension": ".py",
   "mimetype": "text/x-python",
   "name": "python",
   "nbconvert_exporter": "python",
   "pygments_lexer": "ipython3",
   "version": "3.6.5"
  }
 },
 "nbformat": 4,
 "nbformat_minor": 2
}
