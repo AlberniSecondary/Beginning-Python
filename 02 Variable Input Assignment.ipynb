{
 "cells": [
  {
   "cell_type": "markdown",
   "metadata": {},
   "source": [
    "# Variable Input Assignment\n",
    "* In this lesson we will assign variables to values including integers, decimals, and strings.  \n",
    "* We will learn about **Boolean** types.  \n",
    "* We will introduce **if** statements.\n",
    "* We will solicit user input and work with types.  \n",
    "* We will learn some techniques to use with the print function when using variables.  \n",
    "* We will consider how computers execute code.\n",
    "\n",
    "Note from last notebook: More LaTeX math code can be found [here](https://www.andy-roberts.net/res/writing/latex/symbols.pdf)\n",
    "\n",
    "#### Move through this notebook running each of the cells in order.  When asked for input, follow the instruction for what to enter. Otherwise, make a new cell for each thing that you are asked to do and for any experiements that you wish to add in earlier in the notebook."
   ]
  },
  {
   "cell_type": "markdown",
   "metadata": {},
   "source": [
    "In math class, you have learned to work with variables that are usually single letter such as $x$ or $y$ or perhaps the first letter of the thing you want it to stand for. When wew program, we use more descriptive variable names. Different families of programming languages have different variable naming conventions. In fact, next year when you learn to program Arduinos you will use ArduinoC which uses a slightly differnt naming conventions. For Pythin, we use underscores to separate words and use variable names that describe what the variable stands for. "
   ]
  },
  {
   "cell_type": "markdown",
   "metadata": {},
   "source": [
    "### Key Variable Naming Requirement\n",
    "* Variable names should fully describe your variable, that is for what it is being used.\n",
    "* Words in a variable name should be separated by underscores"
   ]
  },
  {
   "cell_type": "code",
   "execution_count": null,
   "metadata": {},
   "outputs": [],
   "source": [
    "my_variable = 5\n",
    "my_variable"
   ]
  },
  {
   "cell_type": "markdown",
   "metadata": {
    "collapsed": true
   },
   "source": [
    "Notice above that I used an equals sign to **assign** a vaue to the variable. In math class, you use an equal sign to mean that two things are equivalent. But, in programming, you need to use two equals sign to **check for** equivalence."
   ]
  },
  {
   "cell_type": "code",
   "execution_count": null,
   "metadata": {},
   "outputs": [],
   "source": [
    "my_variable == 5"
   ]
  },
  {
   "cell_type": "markdown",
   "metadata": {},
   "source": [
    "Notice that the above cell evaluates to **True**. This is a **Boolean** value. There are only two possible values a Boolean type can have. The other is ..."
   ]
  },
  {
   "cell_type": "code",
   "execution_count": null,
   "metadata": {},
   "outputs": [],
   "source": [
    "my_variable == 6"
   ]
  },
  {
   "cell_type": "code",
   "execution_count": null,
   "metadata": {},
   "outputs": [],
   "source": [
    "type(my_variable == 6)"
   ]
  },
  {
   "cell_type": "markdown",
   "metadata": {},
   "source": [
    "Notice that the whole statement above evaluated to a \"bool\" which stands for Boolean. This is important as many aspects of programming require working with Booleans. For example **conditional statements** depend on a true or false initial value."
   ]
  },
  {
   "cell_type": "code",
   "execution_count": null,
   "metadata": {},
   "outputs": [],
   "source": [
    "if my_variable == 5:\n",
    "    print(\"My variable is equal to five.\")"
   ]
  },
  {
   "cell_type": "markdown",
   "metadata": {},
   "source": [
    "Note the syntax above. I have then something that **evaluates** to True or False followed by a colon. The next line is indented. (If you include the colon, it will automatically indent for you.) Then I write the thing that I want it to do if the statement evaluates to True."
   ]
  },
  {
   "cell_type": "markdown",
   "metadata": {},
   "source": [
    "So when might I want to use a variable? Well, if I want to solict user input, I need to assign the input to something."
   ]
  },
  {
   "cell_type": "code",
   "execution_count": null,
   "metadata": {},
   "outputs": [],
   "source": [
    "your_number = input(\"Enter a number:\")"
   ]
  },
  {
   "cell_type": "code",
   "execution_count": null,
   "metadata": {},
   "outputs": [],
   "source": [
    "type(your_number)"
   ]
  },
  {
   "cell_type": "markdown",
   "metadata": {},
   "source": [
    "Oh no!  That says that your number is a string. Why does that matter? Well...."
   ]
  },
  {
   "cell_type": "code",
   "execution_count": null,
   "metadata": {
    "scrolled": true
   },
   "outputs": [],
   "source": [
    "your_number + 5"
   ]
  },
  {
   "cell_type": "markdown",
   "metadata": {},
   "source": [
    "Notice that the error message is informative. **You will be expected to use error messages to debug your code, so take the time to study the error message above.**  \n",
    "* The error message tells you in the third line, preceded by an arrow that line 1 (in this case the only line) contains the error. It also tells you what that line says so you can find it. (Line numbers can be tured on under \"View\" or through your nbextensions menu.)\n",
    "* The last line tells you that the problem is that something must be a string, not an int. I used type() on the input and that said string, so that seems to be the problem.  \n",
    "* Note that if you run cells out of order, or reopen the notebook and start lower down, then you might find that you get undefined errors for variables or other things. You need to run the cells that define variables (or input libraries) before you use those variables (or libraries)."
   ]
  },
  {
   "cell_type": "code",
   "execution_count": null,
   "metadata": {},
   "outputs": [],
   "source": [
    "your_number = int(your_number)\n",
    "type(your_number)"
   ]
  },
  {
   "cell_type": "markdown",
   "metadata": {},
   "source": [
    "Notice that I used variable **assignment** to change the type of the variable. This can be confusing. I assigned the varoable to itself change to an integer. I can also assign a variable that is an integer to itself plus one.  \n",
    "# **Make a new cell below and assign a Variable to a value, th en to itself plus some other integer**."
   ]
  },
  {
   "cell_type": "code",
   "execution_count": null,
   "metadata": {},
   "outputs": [],
   "source": [
    "# make a variable that has an integer value. Then, assign it to itself plus another number, Lastly, print the variable."
   ]
  },
  {
   "cell_type": "code",
   "execution_count": null,
   "metadata": {},
   "outputs": [],
   "source": [
    "your_number + 5"
   ]
  },
  {
   "cell_type": "markdown",
   "metadata": {},
   "source": [
    "Now it works.  Now let us consider printing the input number."
   ]
  },
  {
   "cell_type": "code",
   "execution_count": null,
   "metadata": {},
   "outputs": [],
   "source": [
    "print(\"Your number is\", your_number)"
   ]
  },
  {
   "cell_type": "markdown",
   "metadata": {},
   "source": [
    "Notice that a simple comma gives me a nicely formatted sentence except for the period. Can I just add that using a comma and a string?  \n",
    "**Remember that strings need to be in single or double quotes.**"
   ]
  },
  {
   "cell_type": "code",
   "execution_count": null,
   "metadata": {},
   "outputs": [],
   "source": [
    "print(\"Your number is\", your_number, \".\")"
   ]
  },
  {
   "cell_type": "markdown",
   "metadata": {},
   "source": [
    "Hmm.  Now I have an extra space. So I need to try something fancier. Study the code below."
   ]
  },
  {
   "cell_type": "code",
   "execution_count": null,
   "metadata": {},
   "outputs": [],
   "source": [
    "print(\"Your number is %s.\" % (your_number))"
   ]
  },
  {
   "cell_type": "markdown",
   "metadata": {},
   "source": [
    "%s is replaced by the variable. After the quote, I have the % and then another set of parenthesis surrounding the variable that I want to include. This gives me a nicely formatted sentence. I can do both variables in this notebook together as shown below."
   ]
  },
  {
   "cell_type": "code",
   "execution_count": null,
   "metadata": {},
   "outputs": [],
   "source": [
    "print('My variable is %s and your number is %s' % (my_variable, your_number))"
   ]
  },
  {
   "cell_type": "markdown",
   "metadata": {},
   "source": [
    "Lastly, let us consider that computers exercise code line by line in order. Jupyter notebooks can access information including variables, functions, and imported libraries from previous cells ony if thse cells have been run before them **since you last opened the notebook.**\n",
    "\n",
    "This idea that computers execute code line by line is an important idea that we will return to over and over again."
   ]
  },
  {
   "cell_type": "markdown",
   "metadata": {},
   "source": [
    "### Exercise: Variables and inputs.\n",
    "1. Assign a variable. Use correct naming conventions.\n",
    "* Input a number. Remember to assign it to a properly named variable. \n",
    "* Write an if statement that evaluates based on the type of the variable. (You will need to evaluate type(new_variable) == str) to do this.\n",
    "* Change the type of the variable to an integer. Remember that you need to assign it to its new type.\n",
    "* Input a name from your user to another properly named variable.\n",
    "* Print a sentence incorporating the input name and the input number using the %s format.\n",
    "* You may use multiple cells for this."
   ]
  },
  {
   "cell_type": "code",
   "execution_count": null,
   "metadata": {},
   "outputs": [],
   "source": [
    "# In this cell assign a value to a properly named variable"
   ]
  },
  {
   "cell_type": "code",
   "execution_count": null,
   "metadata": {},
   "outputs": [],
   "source": [
    "# In this cell input a number from your user. Be sure to assign it to another properly named variable."
   ]
  },
  {
   "cell_type": "code",
   "execution_count": null,
   "metadata": {},
   "outputs": [],
   "source": [
    "# Write an if statement here that prints \"This is a string\" or similar if the variable from the cell above is a string"
   ]
  },
  {
   "cell_type": "code",
   "execution_count": null,
   "metadata": {},
   "outputs": [],
   "source": [
    "# Change the type of the variable to an int here"
   ]
  },
  {
   "cell_type": "code",
   "execution_count": null,
   "metadata": {},
   "outputs": [],
   "source": [
    "# Ask your user for their name. Be sure to assign this to a properly named variable"
   ]
  },
  {
   "cell_type": "code",
   "execution_count": null,
   "metadata": {},
   "outputs": [],
   "source": [
    "# Print a sentence incorparing multiple variables from above using %s here"
   ]
  }
 ],
 "metadata": {
  "anaconda-cloud": {},
  "kernelspec": {
   "display_name": "Python 3",
   "language": "python",
   "name": "python3"
  },
  "language_info": {
   "codemirror_mode": {
    "name": "ipython",
    "version": 3
   },
   "file_extension": ".py",
   "mimetype": "text/x-python",
   "name": "python",
   "nbconvert_exporter": "python",
   "pygments_lexer": "ipython3",
   "version": "3.6.5"
  }
 },
 "nbformat": 4,
 "nbformat_minor": 2
}
